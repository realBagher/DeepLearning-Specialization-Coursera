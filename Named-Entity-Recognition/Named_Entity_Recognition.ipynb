{
  "nbformat": 4,
  "nbformat_minor": 0,
  "metadata": {
    "colab": {
      "name": "Named-Entity-Recognition.ipynb",
      "provenance": [],
      "collapsed_sections": [],
      "authorship_tag": "ABX9TyO12Aa3PqqMI0k3CTcQfAA5",
      "include_colab_link": true
    },
    "kernelspec": {
      "name": "python3",
      "display_name": "Python 3"
    },
    "language_info": {
      "name": "python"
    },
    "accelerator": "GPU",
    "gpuClass": "standard"
  },
  "cells": [
    {
      "cell_type": "markdown",
      "metadata": {
        "id": "view-in-github",
        "colab_type": "text"
      },
      "source": [
        "<a href=\"https://colab.research.google.com/github/realBagher/DeepLearning-Specializattion-/blob/main/Named-Entity-Recognition/Named_Entity_Recognition.ipynb\" target=\"_parent\"><img src=\"https://colab.research.google.com/assets/colab-badge.svg\" alt=\"Open In Colab\"/></a>"
      ]
    },
    {
      "cell_type": "code",
      "execution_count": null,
      "metadata": {
        "id": "Wxqruu_67_7Y"
      },
      "outputs": [],
      "source": [
        "!pip install transformers"
      ]
    },
    {
      "cell_type": "code",
      "source": [
        "from transformers import pipeline "
      ],
      "metadata": {
        "id": "clpQkY9s9CxF"
      },
      "execution_count": 2,
      "outputs": []
    },
    {
      "cell_type": "code",
      "source": [
        "!apt-get --purge remove cuda nvidia* libnvidia-*\n",
        "!dpkg -l | grep cuda- | awk '{print $2}' | xargs -n1 dpkg --purge\n",
        "!apt-get remove cuda-*\n",
        "!apt autoremove\n",
        "!apt-get update"
      ],
      "metadata": {
        "id": "hSDcNecq_h7Y"
      },
      "execution_count": null,
      "outputs": []
    },
    {
      "cell_type": "code",
      "source": [
        "!wget https://developer.nvidia.com/compute/cuda/9.2/Prod/local_installers/cuda-repo-ubuntu1604-9-2-local_9.2.88-1_amd64 -O cuda-repo-ubuntu1604-9-2-local_9.2.88-1_amd64.deb\n",
        "!dpkg -i cuda-repo-ubuntu1604-9-2-local_9.2.88-1_amd64.deb\n",
        "!apt-key add /var/cuda-repo-9-2-local/7fa2af80.pub\n",
        "!apt-get update\n",
        "!apt-get install cuda-9.2"
      ],
      "metadata": {
        "id": "QZotOgZB_jrB"
      },
      "execution_count": null,
      "outputs": []
    },
    {
      "cell_type": "code",
      "source": [
        "!nvcc --version"
      ],
      "metadata": {
        "colab": {
          "base_uri": "https://localhost:8080/"
        },
        "id": "4-oNlDbUxFSc",
        "outputId": "bca34219-b411-4429-9a8d-9cfa86c23190"
      },
      "execution_count": 5,
      "outputs": [
        {
          "output_type": "stream",
          "name": "stdout",
          "text": [
            "/bin/bash: nvcc: command not found\n"
          ]
        }
      ]
    },
    {
      "cell_type": "code",
      "source": [
        "!pip install git+https://github.com/andreinechaev/nvcc4jupyter.git"
      ],
      "metadata": {
        "id": "S_Pablsm_mb_"
      },
      "execution_count": null,
      "outputs": []
    },
    {
      "cell_type": "code",
      "source": [
        "%load_ext nvcc_plugin"
      ],
      "metadata": {
        "id": "NFr1uvWs_pBo"
      },
      "execution_count": null,
      "outputs": []
    },
    {
      "cell_type": "code",
      "source": [
        "import torch "
      ],
      "metadata": {
        "id": "QZjosFdpwt2F"
      },
      "execution_count": 8,
      "outputs": []
    },
    {
      "cell_type": "code",
      "source": [
        "torch.cuda.is_available()"
      ],
      "metadata": {
        "colab": {
          "base_uri": "https://localhost:8080/"
        },
        "id": "B2duL08HwwHc",
        "outputId": "e64b731f-bae3-4136-f045-a333dcb248a2"
      },
      "execution_count": 9,
      "outputs": [
        {
          "output_type": "execute_result",
          "data": {
            "text/plain": [
              "True"
            ]
          },
          "metadata": {},
          "execution_count": 9
        }
      ]
    },
    {
      "cell_type": "code",
      "source": [
        "torch.zeros(1).cuda()"
      ],
      "metadata": {
        "colab": {
          "base_uri": "https://localhost:8080/"
        },
        "id": "Ga-2wtFDzT6a",
        "outputId": "6940765d-7305-4ed0-a4d4-6cebfd4d488b"
      },
      "execution_count": 10,
      "outputs": [
        {
          "output_type": "execute_result",
          "data": {
            "text/plain": [
              "tensor([0.], device='cuda:0')"
            ]
          },
          "metadata": {},
          "execution_count": 10
        }
      ]
    },
    {
      "cell_type": "code",
      "source": [
        "torch.cuda.current_device()"
      ],
      "metadata": {
        "colab": {
          "base_uri": "https://localhost:8080/"
        },
        "id": "S3kh8YXmwyBM",
        "outputId": "8fc75f1b-66f3-4069-fed9-a2795e34748b"
      },
      "execution_count": 11,
      "outputs": [
        {
          "output_type": "execute_result",
          "data": {
            "text/plain": [
              "0"
            ]
          },
          "metadata": {},
          "execution_count": 11
        }
      ]
    },
    {
      "cell_type": "code",
      "source": [
        "ner = pipeline('ner',aggregation_strategy='simple',device=0)"
      ],
      "metadata": {
        "colab": {
          "base_uri": "https://localhost:8080/"
        },
        "id": "QzjVBe349HdS",
        "outputId": "67c6cbd6-d424-47e5-f731-620a21fba102"
      },
      "execution_count": 12,
      "outputs": [
        {
          "output_type": "stream",
          "name": "stderr",
          "text": [
            "No model was supplied, defaulted to dbmdz/bert-large-cased-finetuned-conll03-english and revision f2482bf (https://huggingface.co/dbmdz/bert-large-cased-finetuned-conll03-english).\n",
            "Using a pipeline without specifying a model name and revision in production is not recommended.\n"
          ]
        }
      ]
    },
    {
      "cell_type": "code",
      "source": [
        "type(ner)"
      ],
      "metadata": {
        "id": "xDOlkrz59bg2",
        "colab": {
          "base_uri": "https://localhost:8080/"
        },
        "outputId": "7b2accfb-9130-49f6-be63-52593576405a"
      },
      "execution_count": 13,
      "outputs": [
        {
          "output_type": "execute_result",
          "data": {
            "text/plain": [
              "transformers.pipelines.token_classification.TokenClassificationPipeline"
            ]
          },
          "metadata": {},
          "execution_count": 13
        }
      ]
    },
    {
      "cell_type": "code",
      "source": [
        "import pickle "
      ],
      "metadata": {
        "id": "ZrhXIXGl9eJX"
      },
      "execution_count": 14,
      "outputs": []
    },
    {
      "cell_type": "code",
      "source": [
        "!wget https://www.lazyprogrammer.me/course_files/nlp/ner_train.pkl\n",
        "!wget https://www.lazyprogrammer.me/course_files/nlp/ner_test.pkl"
      ],
      "metadata": {
        "id": "bCx5V8mv-u_5"
      },
      "execution_count": null,
      "outputs": []
    },
    {
      "cell_type": "code",
      "source": [
        "with open('ner_train.pkl','rb' ) as f:\n",
        "  corpus_train = pickle.load(f)\n",
        "\n",
        "with open('ner_test.pkl','rb' ) as f:\n",
        "  corpus_test = pickle.load(f)\n",
        "   "
      ],
      "metadata": {
        "id": "HFOE9MtL_HK5"
      },
      "execution_count": 16,
      "outputs": []
    },
    {
      "cell_type": "code",
      "source": [
        "corpus_test"
      ],
      "metadata": {
        "id": "OSX_tltv78TE"
      },
      "execution_count": null,
      "outputs": []
    },
    {
      "cell_type": "code",
      "source": [
        "inputs = []\n",
        "targets = []"
      ],
      "metadata": {
        "id": "5Fu5qjyn8TJU"
      },
      "execution_count": 18,
      "outputs": []
    },
    {
      "cell_type": "code",
      "source": [
        "for sentence_tag_pairs in corpus_test:\n",
        "  tokens =[]\n",
        "  target = []\n",
        "  for token,tag in sentence_tag_pairs:\n",
        "    tokens.append(token)\n",
        "    target.append(tag)\n",
        "  inputs.append(tokens)\n",
        "  targets.append(target)"
      ],
      "metadata": {
        "id": "uvqIpmoV8aI2"
      },
      "execution_count": 19,
      "outputs": []
    },
    {
      "cell_type": "code",
      "source": [
        "inputs[9]"
      ],
      "metadata": {
        "colab": {
          "base_uri": "https://localhost:8080/"
        },
        "id": "-ULvhO9S9JE7",
        "outputId": "9d32d863-578b-4976-8482-bbddec05a01c"
      },
      "execution_count": 20,
      "outputs": [
        {
          "output_type": "execute_result",
          "data": {
            "text/plain": [
              "['He',\n",
              " 'was',\n",
              " 'well',\n",
              " 'backed',\n",
              " 'by',\n",
              " 'England',\n",
              " 'hopeful',\n",
              " 'Mark',\n",
              " 'Butcher',\n",
              " 'who',\n",
              " 'made',\n",
              " '70',\n",
              " 'as',\n",
              " 'Surrey',\n",
              " 'closed',\n",
              " 'on',\n",
              " '429',\n",
              " 'for',\n",
              " 'seven',\n",
              " ',',\n",
              " 'a',\n",
              " 'lead',\n",
              " 'of',\n",
              " '234',\n",
              " '.']"
            ]
          },
          "metadata": {},
          "execution_count": 20
        }
      ]
    },
    {
      "cell_type": "code",
      "source": [
        "from nltk.tokenize.treebank import TreebankWordDetokenizer\n",
        "detokenizer = TreebankWordDetokenizer()"
      ],
      "metadata": {
        "id": "-DLHA6bt9OfK"
      },
      "execution_count": 21,
      "outputs": []
    },
    {
      "cell_type": "code",
      "source": [
        "ner(detokenizer.detokenize(inputs[9]))"
      ],
      "metadata": {
        "colab": {
          "base_uri": "https://localhost:8080/"
        },
        "id": "vaADfnrYAZ3N",
        "outputId": "600bb3a4-6571-4a46-9fda-3e8c3d2c2158"
      },
      "execution_count": 22,
      "outputs": [
        {
          "output_type": "execute_result",
          "data": {
            "text/plain": [
              "[{'end': 29,\n",
              "  'entity_group': 'LOC',\n",
              "  'score': 0.99967515,\n",
              "  'start': 22,\n",
              "  'word': 'England'},\n",
              " {'end': 50,\n",
              "  'entity_group': 'PER',\n",
              "  'score': 0.99974275,\n",
              "  'start': 38,\n",
              "  'word': 'Mark Butcher'},\n",
              " {'end': 72,\n",
              "  'entity_group': 'ORG',\n",
              "  'score': 0.9996264,\n",
              "  'start': 66,\n",
              "  'word': 'Surrey'}]"
            ]
          },
          "metadata": {},
          "execution_count": 22
        }
      ]
    },
    {
      "cell_type": "code",
      "source": [
        "detokenizer.detokenize(inputs[9])"
      ],
      "metadata": {
        "colab": {
          "base_uri": "https://localhost:8080/",
          "height": 36
        },
        "id": "u7XSAgqXAhMu",
        "outputId": "87afbc3b-50e3-4670-b007-54a60853a994"
      },
      "execution_count": 23,
      "outputs": [
        {
          "output_type": "execute_result",
          "data": {
            "text/plain": [
              "'He was well backed by England hopeful Mark Butcher who made 70 as Surrey closed on 429 for seven, a lead of 234.'"
            ],
            "application/vnd.google.colaboratory.intrinsic+json": {
              "type": "string"
            }
          },
          "metadata": {},
          "execution_count": 23
        }
      ]
    },
    {
      "cell_type": "code",
      "source": [
        "targets[9]"
      ],
      "metadata": {
        "colab": {
          "base_uri": "https://localhost:8080/"
        },
        "id": "137_V_NjA523",
        "outputId": "97c1409b-d5bf-49ca-cb90-10286ffda587"
      },
      "execution_count": 24,
      "outputs": [
        {
          "output_type": "execute_result",
          "data": {
            "text/plain": [
              "['O',\n",
              " 'O',\n",
              " 'O',\n",
              " 'O',\n",
              " 'O',\n",
              " 'B-LOC',\n",
              " 'O',\n",
              " 'B-PER',\n",
              " 'I-PER',\n",
              " 'O',\n",
              " 'O',\n",
              " 'O',\n",
              " 'O',\n",
              " 'B-ORG',\n",
              " 'O',\n",
              " 'O',\n",
              " 'O',\n",
              " 'O',\n",
              " 'O',\n",
              " 'O',\n",
              " 'O',\n",
              " 'O',\n",
              " 'O',\n",
              " 'O',\n",
              " 'O']"
            ]
          },
          "metadata": {},
          "execution_count": 24
        }
      ]
    },
    {
      "cell_type": "code",
      "source": [
        "def compute_prediction(tokens,input_,ner_results):\n",
        "\n",
        "  predicted_tags = []\n",
        "  state = 'O'\n",
        "  current_index = 0\n",
        "  for token in tokens:\n",
        "    index = input_.find(token)\n",
        "    assert(index >= 0 )\n",
        "    current_index += index\n",
        "\n",
        "    tag = 'O'\n",
        "    for entity in ner_result:\n",
        "      if current_index >= entity['start'] and current_index < entity['end']:\n",
        "        if state =='O':\n",
        "          state = 'B'\n",
        "        else:\n",
        "          state = 'I'\n",
        "        tag = f\"{state} - {entity['entity_group']}\"\n",
        "        break\n",
        "    if tag == 'O':\n",
        "      state= 'O'\n",
        "    predicted_tags.append(tag)\n",
        "\n",
        "    input_ = input_[index + len(token):]\n",
        "    current_index += len(token)\n",
        "\n",
        "\n",
        "  assert(len(predicted_tags) == len(tokens))\n",
        "  return predicted_tags\n"
      ],
      "metadata": {
        "id": "g7ewy2BhAGZg"
      },
      "execution_count": 25,
      "outputs": []
    },
    {
      "cell_type": "code",
      "source": [
        "input_ = detokenizer.detokenize(inputs[9])\n",
        "ner_result = ner(input_)\n",
        "ptags = compute_prediction(inputs[9],input_,ner_result)"
      ],
      "metadata": {
        "id": "CCQjSjiqBLoI"
      },
      "execution_count": 26,
      "outputs": []
    },
    {
      "cell_type": "code",
      "source": [
        "from sklearn.metrics import accuracy_score , f1_score"
      ],
      "metadata": {
        "id": "xvGPnT6KE0LE"
      },
      "execution_count": 27,
      "outputs": []
    },
    {
      "cell_type": "code",
      "source": [
        "accuracy_score(targets[9],ptags)"
      ],
      "metadata": {
        "colab": {
          "base_uri": "https://localhost:8080/"
        },
        "id": "GImHPgDKE9oM",
        "outputId": "93deca38-ff1c-420b-e7a4-bc78a4cc6a5e"
      },
      "execution_count": 28,
      "outputs": [
        {
          "output_type": "execute_result",
          "data": {
            "text/plain": [
              "0.84"
            ]
          },
          "metadata": {},
          "execution_count": 28
        }
      ]
    },
    {
      "cell_type": "code",
      "source": [
        "for targ,pred in zip(targets[9],ptags):\n",
        "  print(targ,pred)"
      ],
      "metadata": {
        "colab": {
          "base_uri": "https://localhost:8080/"
        },
        "id": "f9OzCWThFDit",
        "outputId": "7d220461-9261-4b58-cb55-35b3374cc13e"
      },
      "execution_count": 29,
      "outputs": [
        {
          "output_type": "stream",
          "name": "stdout",
          "text": [
            "O O\n",
            "O O\n",
            "O O\n",
            "O O\n",
            "O O\n",
            "B-LOC B - LOC\n",
            "O O\n",
            "B-PER B - PER\n",
            "I-PER I - PER\n",
            "O O\n",
            "O O\n",
            "O O\n",
            "O O\n",
            "B-ORG B - ORG\n",
            "O O\n",
            "O O\n",
            "O O\n",
            "O O\n",
            "O O\n",
            "O O\n",
            "O O\n",
            "O O\n",
            "O O\n",
            "O O\n",
            "O O\n"
          ]
        }
      ]
    },
    {
      "cell_type": "code",
      "source": [
        "detok_inputs = []\n",
        "for tokens in inputs:\n",
        "  text = detokenizer.detokenize(tokens)\n",
        "  detok_inputs.append(text)"
      ],
      "metadata": {
        "id": "OhofkwtyGBaz"
      },
      "execution_count": 30,
      "outputs": []
    },
    {
      "cell_type": "code",
      "source": [
        "ner_results = ner(detok_inputs)"
      ],
      "metadata": {
        "id": "h0kHy6BLGVta"
      },
      "execution_count": 31,
      "outputs": []
    },
    {
      "cell_type": "code",
      "source": [
        "predictions = []\n",
        "for tokens, text, ner_result in zip(inputs, detok_inputs, ner_results):\n",
        "  pred = compute_prediction(tokens, text, ner_result)\n",
        "  predictions.append(pred)\n",
        "  "
      ],
      "metadata": {
        "id": "7GvNGephMeD4"
      },
      "execution_count": 32,
      "outputs": []
    },
    {
      "cell_type": "code",
      "source": [
        "detok_inputs = []\n",
        "for tokens in inputs:\n",
        "  text = detokenizer.detokenize(tokens)\n",
        "  detok_inputs.append(text)"
      ],
      "metadata": {
        "id": "Hyv1HIITM7AW"
      },
      "execution_count": 33,
      "outputs": []
    },
    {
      "cell_type": "code",
      "source": [
        "ner_results = ner(detok_inputs)"
      ],
      "metadata": {
        "id": "5NJH43MHNKtd"
      },
      "execution_count": 34,
      "outputs": []
    },
    {
      "cell_type": "code",
      "source": [
        "predictions = []\n",
        "for tokens, text, ner_result in zip(inputs, detok_inputs, ner_results):\n",
        "  pred = compute_prediction(tokens,text,ner_result)\n",
        "  predictions.append(pred)"
      ],
      "metadata": {
        "id": "4gQHWgUPNSHU"
      },
      "execution_count": 36,
      "outputs": []
    },
    {
      "cell_type": "code",
      "source": [
        "def flatten(list_of_lists):\n",
        "  flattened = [val for sublist in list_of_lists for val in sublist]\n",
        "  return flattened"
      ],
      "metadata": {
        "id": "VLrd2ey9Orbc"
      },
      "execution_count": 37,
      "outputs": []
    },
    {
      "cell_type": "code",
      "source": [
        "flat_predictions = flatten(predictions)\n",
        "flat_targets = flatten(targets)\n",
        "assert(len(flat_predictions)==len(flat_targets))"
      ],
      "metadata": {
        "id": "Q_urtTsGO9kM"
      },
      "execution_count": 43,
      "outputs": []
    },
    {
      "cell_type": "code",
      "source": [
        "accuracy_score(flat_targets,flat_predictions)\n"
      ],
      "metadata": {
        "colab": {
          "base_uri": "https://localhost:8080/"
        },
        "id": "CUc00NdyPIzE",
        "outputId": "5de12d95-9eae-401b-8e7c-66a68db37a20"
      },
      "execution_count": 44,
      "outputs": [
        {
          "output_type": "execute_result",
          "data": {
            "text/plain": [
              "0.8338941692740618"
            ]
          },
          "metadata": {},
          "execution_count": 44
        }
      ]
    },
    {
      "cell_type": "code",
      "source": [
        "f1_score(flat_targets,flat_predictions,average='macro')"
      ],
      "metadata": {
        "colab": {
          "base_uri": "https://localhost:8080/"
        },
        "id": "EIjE6NOmTP6g",
        "outputId": "877bf7d1-6764-4757-a8ca-6fb14d787a9a"
      },
      "execution_count": 45,
      "outputs": [
        {
          "output_type": "execute_result",
          "data": {
            "text/plain": [
              "0.05870784824015689"
            ]
          },
          "metadata": {},
          "execution_count": 45
        }
      ]
    }
  ]
}